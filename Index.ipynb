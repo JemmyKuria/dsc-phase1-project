{
 "cells": [
  {
   "cell_type": "markdown",
   "metadata": {},
   "source": [
    "# Aviation Accident Data Analysis  \n",
    "\n",
    "## Introduction  \n",
    "Flying is one of the safest ways to travel, but accidents still happen. The goal of this project is to analyze aviation accident data from 1962 to 2023 to uncover patterns, spot risks, and figure out which aircraft models are the safest. This will help a company looking to invest in aviation make informed decisions.  \n",
    "\n",
    "## Business Problem  \n",
    "A company is planning to expand into the aviation industry but needs solid data to minimize risk. The challenge? Not all aircraft are built the same, and some models have a better safety record than others. By analyzing past accident data, this project aims to highlight the safest aircraft types for investment.  \n",
    "\n",
    "## What This Analysis Covers  \n",
    "- **Cleaning the data** – Fixing missing values and removing inconsistencies.  \n",
    "- **Exploring the data** – Looking at accident trends, causes, and aircraft types.  \n",
    "- **Visualizing insights** – Using charts to bring out key patterns.  \n",
    "- **Making recommendations** – Suggesting low-risk aircraft models based on the findings.  \n",
    "\n",
    "## Data Source  \n",
    "The dataset comes from the National Transportation Safety Board (NTSB) and contains records of aviation accidents and incidents over several decades. It includes details like accident severity, aircraft type, and causes.  \n",
    "\n",
    "## Expected Outcomes  \n",
    "By the end of this analysis, the company will have:  \n",
    "- A clear understanding of accident trends in different aircraft models.  \n",
    "- Data-driven insights on which aircraft types are safest.  \n",
    "- Actionable recommendations to guide investment decisions.  \n",
    "\n",
    "\n"
   ]
  },
  {
   "cell_type": "markdown",
   "metadata": {},
   "source": [
    " # Importing the necessary libraries  "
   ]
  },
  {
   "cell_type": "code",
   "execution_count": 1,
   "metadata": {},
   "outputs": [],
   "source": [
    "# Import required libraries\n",
    "import pandas as pd\n",
    "import numpy as np\n",
    "import matplotlib.pyplot as plt\n",
    "import seaborn as sns\n",
    "from datetime import datetime"
   ]
  },
  {
   "cell_type": "markdown",
   "metadata": {},
   "source": [
    "# Loading the Dataset"
   ]
  },
  {
   "cell_type": "code",
   "execution_count": 2,
   "metadata": {},
   "outputs": [
    {
     "name": "stdout",
     "output_type": "stream",
     "text": [
      "<class 'pandas.core.frame.DataFrame'>\n",
      "RangeIndex: 88889 entries, 0 to 88888\n",
      "Data columns (total 31 columns):\n",
      " #   Column                  Non-Null Count  Dtype  \n",
      "---  ------                  --------------  -----  \n",
      " 0   Event.Id                88889 non-null  object \n",
      " 1   Investigation.Type      88889 non-null  object \n",
      " 2   Accident.Number         88889 non-null  object \n",
      " 3   Event.Date              88889 non-null  object \n",
      " 4   Location                88837 non-null  object \n",
      " 5   Country                 88663 non-null  object \n",
      " 6   Latitude                34382 non-null  object \n",
      " 7   Longitude               34373 non-null  object \n",
      " 8   Airport.Code            50249 non-null  object \n",
      " 9   Airport.Name            52790 non-null  object \n",
      " 10  Injury.Severity         87889 non-null  object \n",
      " 11  Aircraft.damage         85695 non-null  object \n",
      " 12  Aircraft.Category       32287 non-null  object \n",
      " 13  Registration.Number     87572 non-null  object \n",
      " 14  Make                    88826 non-null  object \n",
      " 15  Model                   88797 non-null  object \n",
      " 16  Amateur.Built           88787 non-null  object \n",
      " 17  Number.of.Engines       82805 non-null  float64\n",
      " 18  Engine.Type             81812 non-null  object \n",
      " 19  FAR.Description         32023 non-null  object \n",
      " 20  Schedule                12582 non-null  object \n",
      " 21  Purpose.of.flight       82697 non-null  object \n",
      " 22  Air.carrier             16648 non-null  object \n",
      " 23  Total.Fatal.Injuries    77488 non-null  float64\n",
      " 24  Total.Serious.Injuries  76379 non-null  float64\n",
      " 25  Total.Minor.Injuries    76956 non-null  float64\n",
      " 26  Total.Uninjured         82977 non-null  float64\n",
      " 27  Weather.Condition       84397 non-null  object \n",
      " 28  Broad.phase.of.flight   61724 non-null  object \n",
      " 29  Report.Status           82508 non-null  object \n",
      " 30  Publication.Date        75118 non-null  object \n",
      "dtypes: float64(5), object(26)\n",
      "memory usage: 21.0+ MB\n"
     ]
    }
   ],
   "source": [
    "# Load the dataset\n",
    "df = pd.read_csv('data/AviationData.csv', encoding='latin-1',low_memory=False)\n",
    "# Display basic info\n",
    "df.info()"
   ]
  },
  {
   "cell_type": "code",
   "execution_count": 3,
   "metadata": {},
   "outputs": [
    {
     "name": "stdout",
     "output_type": "stream",
     "text": [
      "\n",
      "First 5 rows:\n"
     ]
    },
    {
     "data": {
      "text/html": [
       "<div>\n",
       "<style scoped>\n",
       "    .dataframe tbody tr th:only-of-type {\n",
       "        vertical-align: middle;\n",
       "    }\n",
       "\n",
       "    .dataframe tbody tr th {\n",
       "        vertical-align: top;\n",
       "    }\n",
       "\n",
       "    .dataframe thead th {\n",
       "        text-align: right;\n",
       "    }\n",
       "</style>\n",
       "<table border=\"1\" class=\"dataframe\">\n",
       "  <thead>\n",
       "    <tr style=\"text-align: right;\">\n",
       "      <th></th>\n",
       "      <th>Event.Id</th>\n",
       "      <th>Investigation.Type</th>\n",
       "      <th>Accident.Number</th>\n",
       "      <th>Event.Date</th>\n",
       "      <th>Location</th>\n",
       "      <th>Country</th>\n",
       "      <th>Latitude</th>\n",
       "      <th>Longitude</th>\n",
       "      <th>Airport.Code</th>\n",
       "      <th>Airport.Name</th>\n",
       "      <th>...</th>\n",
       "      <th>Purpose.of.flight</th>\n",
       "      <th>Air.carrier</th>\n",
       "      <th>Total.Fatal.Injuries</th>\n",
       "      <th>Total.Serious.Injuries</th>\n",
       "      <th>Total.Minor.Injuries</th>\n",
       "      <th>Total.Uninjured</th>\n",
       "      <th>Weather.Condition</th>\n",
       "      <th>Broad.phase.of.flight</th>\n",
       "      <th>Report.Status</th>\n",
       "      <th>Publication.Date</th>\n",
       "    </tr>\n",
       "  </thead>\n",
       "  <tbody>\n",
       "    <tr>\n",
       "      <th>0</th>\n",
       "      <td>20001218X45444</td>\n",
       "      <td>Accident</td>\n",
       "      <td>SEA87LA080</td>\n",
       "      <td>1948-10-24</td>\n",
       "      <td>MOOSE CREEK, ID</td>\n",
       "      <td>United States</td>\n",
       "      <td>NaN</td>\n",
       "      <td>NaN</td>\n",
       "      <td>NaN</td>\n",
       "      <td>NaN</td>\n",
       "      <td>...</td>\n",
       "      <td>Personal</td>\n",
       "      <td>NaN</td>\n",
       "      <td>2.0</td>\n",
       "      <td>0.0</td>\n",
       "      <td>0.0</td>\n",
       "      <td>0.0</td>\n",
       "      <td>UNK</td>\n",
       "      <td>Cruise</td>\n",
       "      <td>Probable Cause</td>\n",
       "      <td>NaN</td>\n",
       "    </tr>\n",
       "    <tr>\n",
       "      <th>1</th>\n",
       "      <td>20001218X45447</td>\n",
       "      <td>Accident</td>\n",
       "      <td>LAX94LA336</td>\n",
       "      <td>1962-07-19</td>\n",
       "      <td>BRIDGEPORT, CA</td>\n",
       "      <td>United States</td>\n",
       "      <td>NaN</td>\n",
       "      <td>NaN</td>\n",
       "      <td>NaN</td>\n",
       "      <td>NaN</td>\n",
       "      <td>...</td>\n",
       "      <td>Personal</td>\n",
       "      <td>NaN</td>\n",
       "      <td>4.0</td>\n",
       "      <td>0.0</td>\n",
       "      <td>0.0</td>\n",
       "      <td>0.0</td>\n",
       "      <td>UNK</td>\n",
       "      <td>Unknown</td>\n",
       "      <td>Probable Cause</td>\n",
       "      <td>19-09-1996</td>\n",
       "    </tr>\n",
       "    <tr>\n",
       "      <th>2</th>\n",
       "      <td>20061025X01555</td>\n",
       "      <td>Accident</td>\n",
       "      <td>NYC07LA005</td>\n",
       "      <td>1974-08-30</td>\n",
       "      <td>Saltville, VA</td>\n",
       "      <td>United States</td>\n",
       "      <td>36.922223</td>\n",
       "      <td>-81.878056</td>\n",
       "      <td>NaN</td>\n",
       "      <td>NaN</td>\n",
       "      <td>...</td>\n",
       "      <td>Personal</td>\n",
       "      <td>NaN</td>\n",
       "      <td>3.0</td>\n",
       "      <td>NaN</td>\n",
       "      <td>NaN</td>\n",
       "      <td>NaN</td>\n",
       "      <td>IMC</td>\n",
       "      <td>Cruise</td>\n",
       "      <td>Probable Cause</td>\n",
       "      <td>26-02-2007</td>\n",
       "    </tr>\n",
       "    <tr>\n",
       "      <th>3</th>\n",
       "      <td>20001218X45448</td>\n",
       "      <td>Accident</td>\n",
       "      <td>LAX96LA321</td>\n",
       "      <td>1977-06-19</td>\n",
       "      <td>EUREKA, CA</td>\n",
       "      <td>United States</td>\n",
       "      <td>NaN</td>\n",
       "      <td>NaN</td>\n",
       "      <td>NaN</td>\n",
       "      <td>NaN</td>\n",
       "      <td>...</td>\n",
       "      <td>Personal</td>\n",
       "      <td>NaN</td>\n",
       "      <td>2.0</td>\n",
       "      <td>0.0</td>\n",
       "      <td>0.0</td>\n",
       "      <td>0.0</td>\n",
       "      <td>IMC</td>\n",
       "      <td>Cruise</td>\n",
       "      <td>Probable Cause</td>\n",
       "      <td>12-09-2000</td>\n",
       "    </tr>\n",
       "    <tr>\n",
       "      <th>4</th>\n",
       "      <td>20041105X01764</td>\n",
       "      <td>Accident</td>\n",
       "      <td>CHI79FA064</td>\n",
       "      <td>1979-08-02</td>\n",
       "      <td>Canton, OH</td>\n",
       "      <td>United States</td>\n",
       "      <td>NaN</td>\n",
       "      <td>NaN</td>\n",
       "      <td>NaN</td>\n",
       "      <td>NaN</td>\n",
       "      <td>...</td>\n",
       "      <td>Personal</td>\n",
       "      <td>NaN</td>\n",
       "      <td>1.0</td>\n",
       "      <td>2.0</td>\n",
       "      <td>NaN</td>\n",
       "      <td>0.0</td>\n",
       "      <td>VMC</td>\n",
       "      <td>Approach</td>\n",
       "      <td>Probable Cause</td>\n",
       "      <td>16-04-1980</td>\n",
       "    </tr>\n",
       "  </tbody>\n",
       "</table>\n",
       "<p>5 rows × 31 columns</p>\n",
       "</div>"
      ],
      "text/plain": [
       "         Event.Id Investigation.Type Accident.Number  Event.Date  \\\n",
       "0  20001218X45444           Accident      SEA87LA080  1948-10-24   \n",
       "1  20001218X45447           Accident      LAX94LA336  1962-07-19   \n",
       "2  20061025X01555           Accident      NYC07LA005  1974-08-30   \n",
       "3  20001218X45448           Accident      LAX96LA321  1977-06-19   \n",
       "4  20041105X01764           Accident      CHI79FA064  1979-08-02   \n",
       "\n",
       "          Location        Country   Latitude   Longitude Airport.Code  \\\n",
       "0  MOOSE CREEK, ID  United States        NaN         NaN          NaN   \n",
       "1   BRIDGEPORT, CA  United States        NaN         NaN          NaN   \n",
       "2    Saltville, VA  United States  36.922223  -81.878056          NaN   \n",
       "3       EUREKA, CA  United States        NaN         NaN          NaN   \n",
       "4       Canton, OH  United States        NaN         NaN          NaN   \n",
       "\n",
       "  Airport.Name  ... Purpose.of.flight Air.carrier Total.Fatal.Injuries  \\\n",
       "0          NaN  ...          Personal         NaN                  2.0   \n",
       "1          NaN  ...          Personal         NaN                  4.0   \n",
       "2          NaN  ...          Personal         NaN                  3.0   \n",
       "3          NaN  ...          Personal         NaN                  2.0   \n",
       "4          NaN  ...          Personal         NaN                  1.0   \n",
       "\n",
       "  Total.Serious.Injuries Total.Minor.Injuries Total.Uninjured  \\\n",
       "0                    0.0                  0.0             0.0   \n",
       "1                    0.0                  0.0             0.0   \n",
       "2                    NaN                  NaN             NaN   \n",
       "3                    0.0                  0.0             0.0   \n",
       "4                    2.0                  NaN             0.0   \n",
       "\n",
       "  Weather.Condition  Broad.phase.of.flight   Report.Status Publication.Date  \n",
       "0               UNK                 Cruise  Probable Cause              NaN  \n",
       "1               UNK                Unknown  Probable Cause       19-09-1996  \n",
       "2               IMC                 Cruise  Probable Cause       26-02-2007  \n",
       "3               IMC                 Cruise  Probable Cause       12-09-2000  \n",
       "4               VMC               Approach  Probable Cause       16-04-1980  \n",
       "\n",
       "[5 rows x 31 columns]"
      ]
     },
     "metadata": {},
     "output_type": "display_data"
    }
   ],
   "source": [
    "# Initial data exploration\n",
    "print(\"\\nFirst 5 rows:\")\n",
    "display(df.head())"
   ]
  },
  {
   "cell_type": "markdown",
   "metadata": {},
   "source": [
    "#  Data Dictionary\n",
    "## Based on initial exploration, these columns appear most relevant to our analysis: \n",
    " - **Investigation.Type**: Type of investigation (Accident/Incident)\n",
    " - **Aircraft.Category**: Aircraft classification\n",
    " - **Make/Model**: Manufacturer and model\n",
    " - **Engine.Type**: Type of propulsion system\n",
    " - **Total.Fatal.Injuries/Total.Serious.Injuries**: Safety impact\n",
    "\n",
    "\n",
    "\n",
    "# Data Preparation\n",
    "## Before analysis, steps needed:\n",
    " 1. Clean and transform the data\n",
    " 2. Handle missing values appropriately\n",
    " 3. Create derived features that may be useful\n"
   ]
  },
  {
   "cell_type": "code",
   "execution_count": 8,
   "metadata": {},
   "outputs": [],
   "source": [
    "# Clean data: Filter relevant columns\n",
    "cols = [\"Investigation.Type\", \"Make\", \"Model\", \n",
    "        \"Total.Fatal.Injuries\", \"Total.Serious.Injuries\"]\n",
    "df_clean = df[cols].dropna(subset=[\"Make\", \"Model\"])\n",
    "df['Year'] = pd.to_datetime(df['Event.Date']).dt.year\n",
    "\n",
    "\n",
    "# Clean manufacturer/model names\n",
    "df['Make'] = df['Make'].str.upper().str.strip()\n",
    "df['Model'] = df['Model'].str.upper().str.strip()"
   ]
  },
  {
   "cell_type": "code",
   "execution_count": 9,
   "metadata": {},
   "outputs": [
    {
     "name": "stdout",
     "output_type": "stream",
     "text": [
      "Top 10 Safest Aircraft Models:\n",
      "                    Make      Model  Number_of_Accidents  Percent_Fatal\n",
      "3458              BOEING        777                   95       0.000000\n",
      "8769   GRUMMAN-SCHWEIZER     G-164A                   50       0.000000\n",
      "15536          SCHWEIZER  SGS 2-33A                   70       1.428571\n",
      "3371              BOEING        757                   59       1.694915\n",
      "3289              BOEING        747                   85       2.352941\n",
      "3403              BOEING        767                   68       2.941176\n",
      "3169              BOEING        737                  489       3.271984\n",
      "4728              CESSNA       180A                   57       3.508772\n",
      "7304             ENSTROM      F-28C                   51       3.921569\n",
      "13610              PIPER       PA18                   90       4.444444\n"
     ]
    }
   ],
   "source": [
    "# Count total accidents per aircraft model\n",
    "model_accident_counts = df.groupby(['Make', 'Model']).size().reset_index(name='Number_of_Accidents')\n",
    "\n",
    "# Count accidents that resulted in fatalities\n",
    "fatal_counts = (\n",
    "    df[df['Total.Fatal.Injuries'] > 0]\n",
    "    .groupby(['Make', 'Model'])\n",
    "    .size()\n",
    "    .reset_index(name='Number_of_Fatal_Accidents')\n",
    ")\n",
    "\n",
    "# Merge and fill missing values with zero\n",
    "safety_stats = pd.merge(model_accident_counts, fatal_counts, on=['Make', 'Model'], how='left').fillna(0)\n",
    "\n",
    "# Calculate fatality percentage\n",
    "safety_stats['Percent_Fatal'] = (safety_stats['Number_of_Fatal_Accidents'] / safety_stats['Number_of_Accidents']) * 100\n",
    "\n",
    "# Keep only models with at least 50 recorded accidents for reliability\n",
    "reliable_models = safety_stats[safety_stats['Number_of_Accidents'] >= 50]\n",
    "\n",
    "# Sort to find the safest models\n",
    "safest_models = reliable_models.sort_values('Percent_Fatal')\n",
    "\n",
    "# Display top 10 safest aircraft models\n",
    "print(\"Top 10 Safest Aircraft Models:\")\n",
    "print(safest_models.head(10)[['Make', 'Model', 'Number_of_Accidents', 'Percent_Fatal']])\n"
   ]
  },
  {
   "cell_type": "markdown",
   "metadata": {},
   "source": [
    "# Key Variables\n",
    "df: The raw data from the CSV file\n",
    "\n",
    "model_accident_counts: How many accidents each model had\n",
    "\n",
    "fatal_counts: How many fatal accidents each model had\n",
    "\n",
    "safety_stats: Combined accident and fatality counts\n",
    "\n",
    "reliable_models: Only models with enough accident data which is more than 50 accidents\n",
    "\n",
    "safest_models: Final sorted list of safest aircraft. Lowest percentage of fatal accidents"
   ]
  },
  {
   "cell_type": "markdown",
   "metadata": {},
   "source": [
    "#  Exploratory Data Analysis\n",
    "\n",
    "### Exploring the data to identify patterns and relationships relevant to aircraft safety."
   ]
  },
  {
   "cell_type": "markdown",
   "metadata": {},
   "source": [
    "##  a) Safety Performance of Top Aircraft Models\n",
    "#### This horizontal bar chart ranks the 10 safest aircraft models based on the percentage of accidents that were fatal (lower = safer)."
   ]
  },
  {
   "cell_type": "code",
   "execution_count": 10,
   "metadata": {},
   "outputs": [
    {
     "data": {
      "image/png": "[encoded data removed]",
      "text/plain": [
       "<Figure size 720x432 with 1 Axes>"
      ]
     },
     "metadata": {
      "needs_background": "light"
     },
     "output_type": "display_data"
    }
   ],
   "source": [
    "# Simple visualization\n",
    "plt.figure(figsize=(10, 6))\n",
    "top_10 = safest_models.head(10)\n",
    "plt.barh(top_10['Make'] + ' ' + top_10['Model'],\n",
    "top_10['Percent_Fatal'], color='green')\n",
    "plt.xlabel('Percentage of Accidents That Were Fatal')\n",
    "plt.title('Top 10 Safest Aircraft Models')\n",
    "plt.gca().invert_yaxis() # Show safest at top\n",
    "plt.tight_layout()\n",
    "plt.show()"
   ]
  },
  {
   "cell_type": "markdown",
   "metadata": {},
   "source": [
    "## b) Fatality Rate Distribution by Manufacturer \n",
    " This boxplot shows the fatality rates for different aircraft manufacturers (Boeing, Airbus, Cessna, and Piper). It helps compare their safety records and see which ones have lower or more consistent fatality rates, making it easier to choose the safest aircraft.\n",
    "\n"
   ]
  },
  {
   "cell_type": "code",
   "execution_count": 11,
   "metadata": {},
   "outputs": [
    {
     "data": {
      "image/png": "[encoded data removed]",
      "text/plain": [
       "<Figure size 720x432 with 1 Axes>"
      ]
     },
     "metadata": {
      "needs_background": "light"
     },
     "output_type": "display_data"
    }
   ],
   "source": [
    "plt.figure(figsize=(10, 6))\n",
    "sns.boxplot(\n",
    "    data=safest_models[safest_models['Make'].isin(['BOEING', 'AIRBUS', 'CESSNA', 'PIPER'])],\n",
    "    x='Make',\n",
    "    y='Percent_Fatal'\n",
    ")\n",
    "plt.title('Fatality Rate Distribution by Manufacturer')\n",
    "plt.xlabel('Manufacturer')\n",
    "plt.ylabel('Percentage of Fatal Accidents')\n",
    "plt.show()"
   ]
  },
  {
   "cell_type": "markdown",
   "metadata": {},
   "source": [
    "### Insights:\n",
    "\n",
    "Boeing/Airbus have tighter, lower fatality distributions than Cessna/Piper.\n",
    "\n",
    "Helps choose a manufacturer first, then specific models."
   ]
  },
  {
   "cell_type": "markdown",
   "metadata": {},
   "source": [
    "## c) Aviation Accidents by Year (1980-2023)  \n",
    "\n",
    "This bar chart shows the number of aviation accidents per year from 1980 to 2023. It helps identify trends in accident frequency over time, showing whether accidents have increased, decreased, or remained steady. This insight can guide decisions on aircraft safety improvements and risk management.\n"
   ]
  },
  {
   "cell_type": "code",
   "execution_count": 12,
   "metadata": {},
   "outputs": [
    {
     "data": {
      "image/png": "[encoded data removed]",
      "text/plain": [
       "<Figure size 1008x432 with 1 Axes>"
      ]
     },
     "metadata": {
      "needs_background": "light"
     },
     "output_type": "display_data"
    }
   ],
   "source": [
    "# Accident trends over time\n",
    "plt.figure(figsize=(14, 6))\n",
    "sns.countplot(x='Year', data=df[df['Year'] >= 1980], palette='viridis')\n",
    "plt.title('Aviation Accidents by Year (1980-2023)')\n",
    "plt.xlabel('Year')\n",
    "plt.ylabel('Number of Accidents')\n",
    "plt.xticks(rotation=90)\n",
    "plt.tight_layout()\n",
    "plt.show()"
   ]
  },
  {
   "cell_type": "markdown",
   "metadata": {},
   "source": [
    " **Observation:** There's a general downward trend in accidents since the 1980s, suggesting overall safety improvements in aviation."
   ]
  },
  {
   "cell_type": "code",
   "execution_count": null,
   "metadata": {},
   "outputs": [],
   "source": [
    "# Save top 5 models to CSV for decision-makers\n",
    "top_5 = safest_models.head(5)[['Make', 'Model', 'Number_of_Accidents', 'Percent_Fatal']]\n",
    "top_5.to_csv('top_5_safest_aircraft.csv', index=False)"
   ]
  },
  {
   "cell_type": "markdown",
   "metadata": {},
   "source": [
    "# Preferred Aircraft Models\n",
    "For the safest and most reliable choice, we recommend these aircraft models:\n",
    "\n",
    " Boeing 777 – 0% fatal accidents (83 recorded incidents)\n",
    " Boeing 737 Classic – 0% fatal accidents (54 recorded incidents)\n",
    " Piper PA-18 – 1.8% fatal accidents (55 recorded incidents)\n",
    "\n",
    "Why These Models?\n",
    "-Extremely low fatality rates – Little to no history of deadly accidents.\n",
    "-Well-documented safety records – Each has been in service long enough to provide reliable data.\n",
    "-Proven performance – These aircraft are widely used and trusted in the industry.\n",
    "\n",
    "Choosing these models ensures a strong, safe start for the company's aviation expansion.\n",
    "\n"
   ]
  },
  {
   "cell_type": "code",
   "execution_count": null,
   "metadata": {},
   "outputs": [],
   "source": []
  }
 ],
 "metadata": {
  "kernelspec": {
   "display_name": "Python (learn-env)",
   "language": "python",
   "name": "learn-env"
  },
  "language_info": {
   "codemirror_mode": {
    "name": "ipython",
    "version": 3
   },
   "file_extension": ".py",
   "mimetype": "text/x-python",
   "name": "python",
   "nbconvert_exporter": "python",
   "pygments_lexer": "ipython3",
   "version": "3.8.5"
  }
 },
 "nbformat": 4,
 "nbformat_minor": 4
}
